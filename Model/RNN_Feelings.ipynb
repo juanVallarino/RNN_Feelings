{
 "cells": [
  {
   "cell_type": "code",
   "id": "initial_id",
   "metadata": {
    "collapsed": true,
    "ExecuteTime": {
     "end_time": "2025-05-12T04:10:45.115929Z",
     "start_time": "2025-05-12T04:10:45.099927Z"
    }
   },
   "source": [
    "import pandas as pd\n",
    "\n",
    "import spacy\n",
    "import numpy as np\n",
    "import seaborn as sns\n",
    "\n",
    "from matplotlib import pyplot as plt\n",
    "from sklearn.model_selection import train_test_split\n",
    "from tensorflow.keras.preprocessing.text import Tokenizer\n",
    "from tensorflow.keras.preprocessing.sequence import pad_sequences\n",
    "from tensorflow.keras.models import Sequential\n",
    "from tensorflow.keras.layers import Embedding, LSTM, Dense, Dropout\n",
    "from tensorflow.keras.optimizers import Adam\n",
    "from sklearn.metrics import classification_report\n",
    "from sklearn.metrics import confusion_matrix\n",
    "from tqdm import tqdm\n"
   ],
   "outputs": [],
   "execution_count": 45
  },
  {
   "metadata": {
    "ExecuteTime": {
     "end_time": "2025-05-12T04:10:46.070492Z",
     "start_time": "2025-05-12T04:10:45.724072Z"
    }
   },
   "cell_type": "code",
   "source": [
    "path_data = \"../Resources/RNN_Movie_Db.csv\"\n",
    "nlp = spacy.load('en_core_web_sm')\n",
    "glove_path = \"../Resources/glove.6B.300d.txt\"\n",
    "VOCAB_SIZE = 10000\n",
    "MAX_LEN = 200\n",
    "EMBEDDING_DIM = 300"
   ],
   "id": "764c9bb1cb443b3c",
   "outputs": [],
   "execution_count": 46
  },
  {
   "metadata": {
    "ExecuteTime": {
     "end_time": "2025-05-12T04:10:46.737267Z",
     "start_time": "2025-05-12T04:10:46.723065Z"
    }
   },
   "cell_type": "code",
   "source": [
    "def load_dataset(path):\n",
    "    df = pd.read_csv(path)\n",
    "    df = df.dropna().reset_index(drop=True)\n",
    "    df['text'] = clean_texts(df['text'].astype(str).values)\n",
    "    df['text'] = df['text'].astype(str)\n",
    "    df['label'] = df['label'].astype(int)\n",
    "    return df"
   ],
   "id": "538d7faa37f1d8ef",
   "outputs": [],
   "execution_count": 47
  },
  {
   "metadata": {
    "ExecuteTime": {
     "end_time": "2025-05-12T04:21:21.860551Z",
     "start_time": "2025-05-12T04:21:21.844549Z"
    }
   },
   "cell_type": "code",
   "source": [
    "def clean_texts(texts):\n",
    "    cleaned = []\n",
    "    total_tokens = 0\n",
    "    total_resenas = len(texts)\n",
    "    for doc in tqdm(nlp.pipe((str(t).lower() for t in texts), batch_size=64), total=total_resenas, desc=\"Procesando reseñas\"):\n",
    "        tokens = [token.lemma_ for token in doc if not token.is_stop and not token.is_punct]\n",
    "        cleaned.append(\" \".join(tokens))\n",
    "        total_tokens += len(tokens)\n",
    "    print(f\"Total tokens procesados: {total_tokens}\")\n",
    "    return cleaned"
   ],
   "id": "881319bd8135c9ce",
   "outputs": [],
   "execution_count": 52
  },
  {
   "metadata": {
    "ExecuteTime": {
     "end_time": "2025-05-12T04:10:48.031351Z",
     "start_time": "2025-05-12T04:10:48.019617Z"
    }
   },
   "cell_type": "code",
   "source": [
    "def tokenize_and_pad(texts, vocab_size=10000, max_len=200):\n",
    "    tokenizer = Tokenizer(num_words=vocab_size, oov_token=\"<OOV>\")\n",
    "    tokenizer.fit_on_texts(texts)\n",
    "    sequences = tokenizer.texts_to_sequences(texts)\n",
    "    padded = pad_sequences(sequences, maxlen=max_len, padding='post', truncating='post')\n",
    "    return padded, tokenizer"
   ],
   "id": "2047fb9930e65be",
   "outputs": [],
   "execution_count": 49
  },
  {
   "metadata": {
    "ExecuteTime": {
     "end_time": "2025-05-12T04:10:48.858446Z",
     "start_time": "2025-05-12T04:10:48.850446Z"
    }
   },
   "cell_type": "code",
   "source": [
    "def load_glove_embeddings(glove_file_path, vocab_size, tokenizer, embedding_dim=300):\n",
    "    embeddings_index = {}\n",
    "    with open(glove_file_path, 'r', encoding='utf-8') as f:\n",
    "        for line in f:\n",
    "            values = line.split()\n",
    "            word = values[0]\n",
    "            coefs = np.asarray(values[1:], dtype='float32')\n",
    "            embeddings_index[word] = coefs\n",
    "\n",
    "    embedding_matrix = np.zeros((vocab_size, embedding_dim))\n",
    "    for word, index in tokenizer.word_index.items():\n",
    "        if index < vocab_size:\n",
    "            embedding_vector = embeddings_index.get(word)\n",
    "            if embedding_vector is not None:\n",
    "                embedding_matrix[index] = embedding_vector\n",
    "\n",
    "    return embedding_matrix"
   ],
   "id": "bbec186698727740",
   "outputs": [],
   "execution_count": 50
  },
  {
   "metadata": {
    "jupyter": {
     "is_executing": true
    },
    "ExecuteTime": {
     "start_time": "2025-05-12T04:21:25.323042Z"
    }
   },
   "cell_type": "code",
   "source": "df = load_dataset(path_data)",
   "id": "cb4d31c3be9db9e1",
   "outputs": [
    {
     "name": "stderr",
     "output_type": "stream",
     "text": [
      "Procesando reseñas:   3%|▎         | 1153/40000 [00:47<26:29, 24.44it/s]"
     ]
    }
   ],
   "execution_count": null
  },
  {
   "metadata": {},
   "cell_type": "code",
   "outputs": [],
   "execution_count": null,
   "source": [
    "X, tokenizer = tokenize_and_pad(df['text'].values, vocab_size=VOCAB_SIZE, max_len=MAX_LEN)\n",
    "y = df['label'].values"
   ],
   "id": "f2ae70262ddde243"
  },
  {
   "metadata": {},
   "cell_type": "code",
   "outputs": [],
   "execution_count": null,
   "source": "embedding_matrix = load_glove_embeddings(glove_path, vocab_size=VOCAB_SIZE, tokenizer=tokenizer, embedding_dim=EMBEDDING_DIM)",
   "id": "ceb0f0a64b421e13"
  },
  {
   "metadata": {},
   "cell_type": "code",
   "outputs": [],
   "execution_count": null,
   "source": [
    "model = Sequential()\n",
    "model.add(Embedding(\n",
    "    input_dim=VOCAB_SIZE,\n",
    "    output_dim=EMBEDDING_DIM,\n",
    "    weights=[embedding_matrix],\n",
    "    input_length=MAX_LEN,\n",
    "    trainable=False\n",
    "))\n",
    "model.add(LSTM(128, return_sequences=True))\n",
    "model.add(Dropout(0.5))\n",
    "model.add(LSTM(64))\n",
    "model.add(Dropout(0.5))\n",
    "model.add(Dense(1, activation='sigmoid'))\n",
    "\n",
    "# Compilar el modelo\n",
    "model.compile(optimizer=Adam(learning_rate=0.001), loss='binary_crossentropy', metrics=['accuracy'])\n",
    "\n",
    "# Mostrar resumen del modelo\n",
    "model.summary()"
   ],
   "id": "2ea8e18a75451bde"
  },
  {
   "metadata": {},
   "cell_type": "code",
   "outputs": [],
   "execution_count": null,
   "source": "X_train, X_val, y_train, y_val = train_test_split(X, y, test_size=0.2, random_state=42)",
   "id": "11b9cdf168990028"
  },
  {
   "metadata": {},
   "cell_type": "code",
   "outputs": [],
   "execution_count": null,
   "source": [
    "history = model.fit(\n",
    "    X_train, y_train,\n",
    "    epochs=5,\n",
    "    batch_size=32,\n",
    "    validation_data=(X_val, y_val)\n",
    ")"
   ],
   "id": "df6d834689f5f3ad"
  },
  {
   "metadata": {},
   "cell_type": "code",
   "outputs": [],
   "execution_count": null,
   "source": [
    "y_pred_prob = model.predict(X_val)\n",
    "y_pred = (y_pred_prob > 0.5).astype(\"int32\")"
   ],
   "id": "eb3d1bee8814dd1b"
  },
  {
   "metadata": {},
   "cell_type": "code",
   "outputs": [],
   "execution_count": null,
   "source": "print(classification_report(y_val, y_pred, digits=4))",
   "id": "51f6ad33997436a5"
  },
  {
   "metadata": {},
   "cell_type": "code",
   "outputs": [],
   "execution_count": null,
   "source": [
    "cm = confusion_matrix(y_val, y_pred)\n",
    "\n",
    "plt.figure(figsize=(6, 4))\n",
    "sns.heatmap(cm, annot=True, fmt='d', cmap='Blues', xticklabels=[\"Negativa\", \"Positiva\"], yticklabels=[\"Negativa\", \"Positiva\"])\n",
    "plt.xlabel('Predicción')\n",
    "plt.ylabel('Real')\n",
    "plt.title('Matriz de Confusión')\n",
    "plt.show()"
   ],
   "id": "c8146b15fe6ca66c"
  }
 ],
 "metadata": {
  "kernelspec": {
   "display_name": "Python 3",
   "language": "python",
   "name": "python3"
  },
  "language_info": {
   "codemirror_mode": {
    "name": "ipython",
    "version": 2
   },
   "file_extension": ".py",
   "mimetype": "text/x-python",
   "name": "python",
   "nbconvert_exporter": "python",
   "pygments_lexer": "ipython2",
   "version": "2.7.6"
  }
 },
 "nbformat": 4,
 "nbformat_minor": 5
}
